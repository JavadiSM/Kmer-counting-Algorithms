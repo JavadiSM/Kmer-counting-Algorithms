{
 "cells": [
  {
   "cell_type": "markdown",
   "id": "1cb5313b-5723-432b-9581-bd47092d9a48",
   "metadata": {},
   "source": [
    "<div style=\"text-align: center;\">\n",
    "  <img src=\"src\\images\\test.jpg\" alt=\"Diagram of model\" style=\"width: 60%;\">\n",
    "</div>"
   ]
  },
  {
   "cell_type": "markdown",
   "id": "a4eacc70-f660-4903-83c2-69f36c8c2d0b",
   "metadata": {},
   "source": [
    "<div style=\"text-align: center;\">\n",
    "  <h1>Implementing different K-mer counting algorithms</h1>\n",
    "  <p style=\"text-align: center;\">By Seyed Mohammadreza Javad, CE student at SUT</p>\n",
    "</div>"
   ]
  },
  {
   "cell_type": "markdown",
   "id": "4cd21621-976b-4ab1-a71b-4f584660111f",
   "metadata": {},
   "source": [
    "# Introduction\n",
    "I will start with three questions:  \n",
    "**What is a k-mer?** We can define them simply as substrings of length `k` in a biological sequence.  \n",
    "**Why's that important?** Well, counting k-mers is subproblem in many genomic computation tasks and plays an important role.  \n",
    "**What are we going to cover in this notebook?**  In this notebook we implement different algorithms to count k-mers, assuming they can overlap.  "
   ]
  },
  {
   "cell_type": "markdown",
   "id": "ab37dc3b-5ac5-4e8b-a483-17909fc9bf49",
   "metadata": {},
   "source": [
    "# Methods and Algorithms"
   ]
  },
  {
   "cell_type": "code",
   "execution_count": 16,
   "id": "b89ce3c1-a59c-40d1-9e92-7a1b4778b5ac",
   "metadata": {},
   "outputs": [],
   "source": [
    "import numpy as np\n",
    "import pandas as pd\n",
    "import matplotlib\n",
    "import matplotlib.pyplot as plt\n",
    "import os\n",
    "import itertools"
   ]
  },
  {
   "cell_type": "markdown",
   "id": "4c47ca33-af2e-4cf5-ad31-6c2a678fb925",
   "metadata": {},
   "source": [
    "Loading DNA and looking into data set\n",
    "We will use [E-coli](https://www.ncbi.nlm.nih.gov/nuccore/NZ_CABFNN010000001.1) which is similiar as the one introduced in class   \n",
    "DEFINITION: Escherichia coli J53 isolate E. coli, whole genome shotgun"
   ]
  },
  {
   "cell_type": "code",
   "execution_count": 15,
   "id": "e8ac1eaa-bb90-4ef0-a77f-610de14a3b64",
   "metadata": {},
   "outputs": [
    {
     "data": {
      "text/plain": [
       "('example:', 'GTGCCGGTCGCTAACTGCGCGGTCACTACC', ' size:', 4705562)"
      ]
     },
     "execution_count": 15,
     "metadata": {},
     "output_type": "execute_result"
    }
   ],
   "source": [
    "PATH = r\"C:\\Users\\Asus\\Desktop\\BIO\\kmer\\src\\sequence.fasta\"\n",
    "DNA = []\n",
    "with open(PATH,'r') as fp:\n",
    "    for line in fp:\n",
    "        DNA.append(line.strip().upper()) if '>' not in line else None\n",
    "DNA = ''.join(DNA)\n",
    "\"example:\", DNA[:30], \" size:\", len(DNA)"
   ]
  },
  {
   "cell_type": "markdown",
   "id": "566ac1d9-a2eb-4322-b29f-428fa6af98eb",
   "metadata": {},
   "source": [
    "## Naive approach(using window slicing method)\n",
    "We simply count them by hand!"
   ]
  },
  {
   "cell_type": "code",
   "execution_count": 19,
   "id": "44387fed-0b98-45e5-a73e-5afe02eed500",
   "metadata": {},
   "outputs": [],
   "source": [
    "def k_mer_naive(k:int, dna:list) -> (dict,str,int):\n",
    "    table = {}\n",
    "    winner, score = None, -1_000_000_000\n",
    "    for i in range(len(dna)-k+1):\n",
    "        _seq = ''.join(dna[i:i+k])\n",
    "        new_value = 1\n",
    "        if _seq in table.keys():\n",
    "            new_value += table[_seq]\n",
    "        table[_seq] = new_value\n",
    "        if score<new_value:\n",
    "            score = new_value\n",
    "            winner = _seq\n",
    "    return table, winner, score"
   ]
  },
  {
   "cell_type": "code",
   "execution_count": 23,
   "id": "92d8c56c-cf0c-4092-827c-f86250522297",
   "metadata": {},
   "outputs": [],
   "source": [
    "res = k_mer_naive(k=3,dna=DNA)"
   ]
  },
  {
   "cell_type": "code",
   "execution_count": 24,
   "id": "d23e65a3-8646-4f4e-8081-692d46102cc8",
   "metadata": {},
   "outputs": [
    {
     "data": {
      "text/plain": [
       "('GCG', 116953)"
      ]
     },
     "execution_count": 24,
     "metadata": {},
     "output_type": "execute_result"
    }
   ],
   "source": [
    "res[1],res[2]"
   ]
  },
  {
   "cell_type": "code",
   "execution_count": 25,
   "id": "b558f80a-3028-4b21-9ca7-51c63a95b693",
   "metadata": {},
   "outputs": [
    {
     "data": {
      "text/plain": [
       "{'GTG': 67570,\n",
       " 'TGC': 97411,\n",
       " 'GCC': 93450,\n",
       " 'CCG': 88163,\n",
       " 'CGG': 88220,\n",
       " 'GGT': 75834,\n",
       " 'GTC': 55588,\n",
       " 'TCG': 71736,\n",
       " 'CGC': 115944,\n",
       " 'GCT': 82030,\n",
       " 'CTA': 27557,\n",
       " 'TAA': 69729,\n",
       " 'AAC': 83665,\n",
       " 'ACT': 50599,\n",
       " 'CTG': 106391,\n",
       " 'GCG': 116953,\n",
       " 'TCA': 84859,\n",
       " 'CAC': 67213,\n",
       " 'TAC': 53387,\n",
       " 'ACC': 75231,\n",
       " 'CCA': 86404,\n",
       " 'CAG': 104454,\n",
       " 'AGC': 81511,\n",
       " 'CCT': 51445,\n",
       " 'CTC': 43336,\n",
       " 'CGA': 72583,\n",
       " 'GAC': 54999,\n",
       " 'ACA': 59296,\n",
       " 'ACG': 74138,\n",
       " 'TGA': 85260,\n",
       " 'GAA': 85040,\n",
       " 'AAG': 64602,\n",
       " 'GAT': 87603,\n",
       " 'ATG': 78117,\n",
       " 'TGG': 87508,\n",
       " 'GGC': 94215,\n",
       " 'ATT': 84096,\n",
       " 'TTG': 77628,\n",
       " 'GAG': 43412,\n",
       " 'CGT': 74243,\n",
       " 'GTT': 83763,\n",
       " 'GGA': 56832,\n",
       " 'TTT': 110482,\n",
       " 'TTC': 84833,\n",
       " 'TCT': 57570,\n",
       " 'TTA': 69758,\n",
       " 'CAA': 78019,\n",
       " 'CAT': 77521,\n",
       " 'ATC': 87739,\n",
       " 'GCA': 96648,\n",
       " 'AAA': 111353,\n",
       " 'AAT': 84520,\n",
       " 'ATA': 64281,\n",
       " 'TAT': 64589,\n",
       " 'CTT': 64360,\n",
       " 'TCC': 57331,\n",
       " 'AGG': 51153,\n",
       " 'CCC': 48188,\n",
       " 'AGA': 56379,\n",
       " 'GGG': 48346,\n",
       " 'TGT': 59527,\n",
       " 'GTA': 53247,\n",
       " 'AGT': 50563,\n",
       " 'TAG': 27138}"
      ]
     },
     "execution_count": 25,
     "metadata": {},
     "output_type": "execute_result"
    }
   ],
   "source": [
    "res[0]"
   ]
  },
  {
   "cell_type": "code",
   "execution_count": null,
   "id": "b007c8a1-1455-4d42-accd-91db52fb9230",
   "metadata": {},
   "outputs": [],
   "source": []
  },
  {
   "cell_type": "code",
   "execution_count": null,
   "id": "bcd0c0fb-3ea6-47be-831d-68089600e948",
   "metadata": {},
   "outputs": [],
   "source": []
  },
  {
   "cell_type": "code",
   "execution_count": null,
   "id": "459b9ec0-6779-4589-bdd8-031d4c809a99",
   "metadata": {},
   "outputs": [],
   "source": []
  },
  {
   "cell_type": "markdown",
   "id": "5facf734-8ae2-4158-b3ba-597bffc66ad3",
   "metadata": {},
   "source": [
    "# References"
   ]
  },
  {
   "cell_type": "code",
   "execution_count": 1,
   "id": "662174ae-c671-46f1-a1f5-ba99db2363ae",
   "metadata": {},
   "outputs": [
    {
     "name": "stdout",
     "output_type": "stream",
     "text": [
      "An analysis of something. Smith, John, Doe, Jane. Journal of Examples 2020.\n"
     ]
    }
   ],
   "source": [
    "import bibtexparser\n",
    "\n",
    "with open('refs.bib') as bibtex_file:\n",
    "    bib_database = bibtexparser.load(bibtex_file)\n",
    "\n",
    "# Simple render (custom formatting)\n",
    "for entry in bib_database.entries:\n",
    "    print(f\"{entry['title']}. {entry.get('author','').replace(' and ', ', ')}. {entry.get('journal','')} {entry.get('year','')}.\")"
   ]
  },
  {
   "cell_type": "code",
   "execution_count": null,
   "id": "177fdd9e-c91d-4193-bfe5-828e5dad8274",
   "metadata": {},
   "outputs": [],
   "source": []
  }
 ],
 "metadata": {
  "kernelspec": {
   "display_name": "Python 3 (ipykernel)",
   "language": "python",
   "name": "python3"
  },
  "language_info": {
   "codemirror_mode": {
    "name": "ipython",
    "version": 3
   },
   "file_extension": ".py",
   "mimetype": "text/x-python",
   "name": "python",
   "nbconvert_exporter": "python",
   "pygments_lexer": "ipython3",
   "version": "3.13.1"
  }
 },
 "nbformat": 4,
 "nbformat_minor": 5
}
